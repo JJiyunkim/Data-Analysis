{
 "cells": [
  {
   "cell_type": "code",
   "execution_count": 1,
   "id": "60b32355",
   "metadata": {},
   "outputs": [],
   "source": [
    "import numpy as np\n",
    "import pandas as pd\n",
    "import matplotlib.pyplot as plt\n",
    "import warnings\n",
    "import seaborn as sns\n",
    "warnings.filterwarnings('ignore')"
   ]
  },
  {
   "cell_type": "code",
   "execution_count": 2,
   "id": "2142d75e",
   "metadata": {},
   "outputs": [
    {
     "data": {
      "text/html": [
       "<div>\n",
       "<style scoped>\n",
       "    .dataframe tbody tr th:only-of-type {\n",
       "        vertical-align: middle;\n",
       "    }\n",
       "\n",
       "    .dataframe tbody tr th {\n",
       "        vertical-align: top;\n",
       "    }\n",
       "\n",
       "    .dataframe thead th {\n",
       "        text-align: right;\n",
       "    }\n",
       "</style>\n",
       "<table border=\"1\" class=\"dataframe\">\n",
       "  <thead>\n",
       "    <tr style=\"text-align: right;\">\n",
       "      <th></th>\n",
       "      <th>App Name</th>\n",
       "      <th>App Id</th>\n",
       "      <th>Category</th>\n",
       "      <th>Rating</th>\n",
       "      <th>Rating Count</th>\n",
       "      <th>Installs</th>\n",
       "      <th>Minimum Installs</th>\n",
       "      <th>Maximum Installs</th>\n",
       "      <th>Free</th>\n",
       "      <th>Price</th>\n",
       "      <th>...</th>\n",
       "      <th>Developer Website</th>\n",
       "      <th>Developer Email</th>\n",
       "      <th>Released</th>\n",
       "      <th>Last Updated</th>\n",
       "      <th>Content Rating</th>\n",
       "      <th>Privacy Policy</th>\n",
       "      <th>Ad Supported</th>\n",
       "      <th>In App Purchases</th>\n",
       "      <th>Editors Choice</th>\n",
       "      <th>Scraped Time</th>\n",
       "    </tr>\n",
       "  </thead>\n",
       "  <tbody>\n",
       "    <tr>\n",
       "      <th>0</th>\n",
       "      <td>Gakondo</td>\n",
       "      <td>com.ishakwe.gakondo</td>\n",
       "      <td>Adventure</td>\n",
       "      <td>0.0</td>\n",
       "      <td>0.0</td>\n",
       "      <td>10+</td>\n",
       "      <td>10.0</td>\n",
       "      <td>15</td>\n",
       "      <td>True</td>\n",
       "      <td>0.0</td>\n",
       "      <td>...</td>\n",
       "      <td>https://beniyizibyose.tk/#/</td>\n",
       "      <td>jean21101999@gmail.com</td>\n",
       "      <td>Feb 26, 2020</td>\n",
       "      <td>Feb 26, 2020</td>\n",
       "      <td>Everyone</td>\n",
       "      <td>https://beniyizibyose.tk/projects/</td>\n",
       "      <td>False</td>\n",
       "      <td>False</td>\n",
       "      <td>False</td>\n",
       "      <td>2021-06-15 20:19:35</td>\n",
       "    </tr>\n",
       "    <tr>\n",
       "      <th>1</th>\n",
       "      <td>Ampere Battery Info</td>\n",
       "      <td>com.webserveis.batteryinfo</td>\n",
       "      <td>Tools</td>\n",
       "      <td>4.4</td>\n",
       "      <td>64.0</td>\n",
       "      <td>5,000+</td>\n",
       "      <td>5000.0</td>\n",
       "      <td>7662</td>\n",
       "      <td>True</td>\n",
       "      <td>0.0</td>\n",
       "      <td>...</td>\n",
       "      <td>https://webserveis.netlify.app/</td>\n",
       "      <td>webserveis@gmail.com</td>\n",
       "      <td>May 21, 2020</td>\n",
       "      <td>May 06, 2021</td>\n",
       "      <td>Everyone</td>\n",
       "      <td>https://dev4phones.wordpress.com/licencia-de-uso/</td>\n",
       "      <td>True</td>\n",
       "      <td>False</td>\n",
       "      <td>False</td>\n",
       "      <td>2021-06-15 20:19:35</td>\n",
       "    </tr>\n",
       "    <tr>\n",
       "      <th>2</th>\n",
       "      <td>Vibook</td>\n",
       "      <td>com.doantiepvien.crm</td>\n",
       "      <td>Productivity</td>\n",
       "      <td>0.0</td>\n",
       "      <td>0.0</td>\n",
       "      <td>50+</td>\n",
       "      <td>50.0</td>\n",
       "      <td>58</td>\n",
       "      <td>True</td>\n",
       "      <td>0.0</td>\n",
       "      <td>...</td>\n",
       "      <td>NaN</td>\n",
       "      <td>vnacrewit@gmail.com</td>\n",
       "      <td>Aug 9, 2019</td>\n",
       "      <td>Aug 19, 2019</td>\n",
       "      <td>Everyone</td>\n",
       "      <td>https://www.vietnamairlines.com/vn/en/terms-an...</td>\n",
       "      <td>False</td>\n",
       "      <td>False</td>\n",
       "      <td>False</td>\n",
       "      <td>2021-06-15 20:19:35</td>\n",
       "    </tr>\n",
       "    <tr>\n",
       "      <th>3</th>\n",
       "      <td>Smart City Trichy Public Service Vehicles 17UC...</td>\n",
       "      <td>cst.stJoseph.ug17ucs548</td>\n",
       "      <td>Communication</td>\n",
       "      <td>5.0</td>\n",
       "      <td>5.0</td>\n",
       "      <td>10+</td>\n",
       "      <td>10.0</td>\n",
       "      <td>19</td>\n",
       "      <td>True</td>\n",
       "      <td>0.0</td>\n",
       "      <td>...</td>\n",
       "      <td>http://www.climatesmarttech.com/</td>\n",
       "      <td>climatesmarttech2@gmail.com</td>\n",
       "      <td>Sep 10, 2018</td>\n",
       "      <td>Oct 13, 2018</td>\n",
       "      <td>Everyone</td>\n",
       "      <td>NaN</td>\n",
       "      <td>True</td>\n",
       "      <td>False</td>\n",
       "      <td>False</td>\n",
       "      <td>2021-06-15 20:19:35</td>\n",
       "    </tr>\n",
       "    <tr>\n",
       "      <th>4</th>\n",
       "      <td>GROW.me</td>\n",
       "      <td>com.horodyski.grower</td>\n",
       "      <td>Tools</td>\n",
       "      <td>0.0</td>\n",
       "      <td>0.0</td>\n",
       "      <td>100+</td>\n",
       "      <td>100.0</td>\n",
       "      <td>478</td>\n",
       "      <td>True</td>\n",
       "      <td>0.0</td>\n",
       "      <td>...</td>\n",
       "      <td>http://www.horodyski.com.pl</td>\n",
       "      <td>rmilekhorodyski@gmail.com</td>\n",
       "      <td>Feb 21, 2020</td>\n",
       "      <td>Nov 12, 2018</td>\n",
       "      <td>Everyone</td>\n",
       "      <td>http://www.horodyski.com.pl</td>\n",
       "      <td>False</td>\n",
       "      <td>False</td>\n",
       "      <td>False</td>\n",
       "      <td>2021-06-15 20:19:35</td>\n",
       "    </tr>\n",
       "  </tbody>\n",
       "</table>\n",
       "<p>5 rows × 24 columns</p>\n",
       "</div>"
      ],
      "text/plain": [
       "                                            App Name  \\\n",
       "0                                            Gakondo   \n",
       "1                                Ampere Battery Info   \n",
       "2                                             Vibook   \n",
       "3  Smart City Trichy Public Service Vehicles 17UC...   \n",
       "4                                            GROW.me   \n",
       "\n",
       "                       App Id       Category  Rating  Rating Count Installs  \\\n",
       "0         com.ishakwe.gakondo      Adventure     0.0           0.0      10+   \n",
       "1  com.webserveis.batteryinfo          Tools     4.4          64.0   5,000+   \n",
       "2        com.doantiepvien.crm   Productivity     0.0           0.0      50+   \n",
       "3     cst.stJoseph.ug17ucs548  Communication     5.0           5.0      10+   \n",
       "4        com.horodyski.grower          Tools     0.0           0.0     100+   \n",
       "\n",
       "   Minimum Installs  Maximum Installs  Free  Price  ...  \\\n",
       "0              10.0                15  True    0.0  ...   \n",
       "1            5000.0              7662  True    0.0  ...   \n",
       "2              50.0                58  True    0.0  ...   \n",
       "3              10.0                19  True    0.0  ...   \n",
       "4             100.0               478  True    0.0  ...   \n",
       "\n",
       "                  Developer Website              Developer Email  \\\n",
       "0       https://beniyizibyose.tk/#/       jean21101999@gmail.com   \n",
       "1   https://webserveis.netlify.app/         webserveis@gmail.com   \n",
       "2                               NaN          vnacrewit@gmail.com   \n",
       "3  http://www.climatesmarttech.com/  climatesmarttech2@gmail.com   \n",
       "4       http://www.horodyski.com.pl    rmilekhorodyski@gmail.com   \n",
       "\n",
       "       Released  Last Updated Content Rating  \\\n",
       "0  Feb 26, 2020  Feb 26, 2020       Everyone   \n",
       "1  May 21, 2020  May 06, 2021       Everyone   \n",
       "2   Aug 9, 2019  Aug 19, 2019       Everyone   \n",
       "3  Sep 10, 2018  Oct 13, 2018       Everyone   \n",
       "4  Feb 21, 2020  Nov 12, 2018       Everyone   \n",
       "\n",
       "                                      Privacy Policy Ad Supported  \\\n",
       "0                 https://beniyizibyose.tk/projects/        False   \n",
       "1  https://dev4phones.wordpress.com/licencia-de-uso/         True   \n",
       "2  https://www.vietnamairlines.com/vn/en/terms-an...        False   \n",
       "3                                                NaN         True   \n",
       "4                        http://www.horodyski.com.pl        False   \n",
       "\n",
       "  In App Purchases Editors Choice         Scraped Time  \n",
       "0            False          False  2021-06-15 20:19:35  \n",
       "1            False          False  2021-06-15 20:19:35  \n",
       "2            False          False  2021-06-15 20:19:35  \n",
       "3            False          False  2021-06-15 20:19:35  \n",
       "4            False          False  2021-06-15 20:19:35  \n",
       "\n",
       "[5 rows x 24 columns]"
      ]
     },
     "execution_count": 2,
     "metadata": {},
     "output_type": "execute_result"
    }
   ],
   "source": [
    "#pandas를 이용해 dataframe생성-구글플레이스토어\n",
    "google=pd.read_csv(\"Google-Playstore.csv\",engine='python')\n",
    "#data확인\n",
    "google.head()"
   ]
  },
  {
   "cell_type": "code",
   "execution_count": 3,
   "id": "490096c3",
   "metadata": {},
   "outputs": [],
   "source": [
    "#필요한 부분 추출\n",
    "#columns값중 Installs: 설치수, Rating: 평점, Rating Count: 리뷰 수, Free : 앱의 유료,무료 여부\n",
    "gData=google[['App Name','Category','Rating','Rating Count','Installs','Free','Ad Supported','Content Rating']]"
   ]
  },
  {
   "cell_type": "code",
   "execution_count": 4,
   "id": "de4f05d2",
   "metadata": {},
   "outputs": [
    {
     "data": {
      "text/plain": [
       "App Name              2\n",
       "Category              0\n",
       "Rating            22883\n",
       "Rating Count      22883\n",
       "Installs            107\n",
       "Free                  0\n",
       "Ad Supported          0\n",
       "Content Rating        0\n",
       "dtype: int64"
      ]
     },
     "execution_count": 4,
     "metadata": {},
     "output_type": "execute_result"
    }
   ],
   "source": [
    "#결측값 확인\n",
    "gData.isnull().sum()"
   ]
  },
  {
   "cell_type": "code",
   "execution_count": 5,
   "id": "80a9334c",
   "metadata": {},
   "outputs": [
    {
     "data": {
      "text/plain": [
       "App Name          0\n",
       "Category          0\n",
       "Rating            0\n",
       "Rating Count      0\n",
       "Installs          0\n",
       "Free              0\n",
       "Ad Supported      0\n",
       "Content Rating    0\n",
       "dtype: int64"
      ]
     },
     "execution_count": 5,
     "metadata": {},
     "output_type": "execute_result"
    }
   ],
   "source": [
    "#결측값 제거\n",
    "gData.dropna(subset=['App Name','Rating','Rating Count','Installs'],inplace=True)\n",
    "gData.isnull().sum()"
   ]
  },
  {
   "cell_type": "code",
   "execution_count": 6,
   "id": "5f3ec864",
   "metadata": {},
   "outputs": [],
   "source": [
    "#'Installs' 부분에 '1000+'과 같이 뒤에 '+'제거후 실수형으로 변환후 다시 정수형\n",
    "gData.Installs = gData.Installs.str.replace(',','')\n",
    "gData.Installs = gData.Installs.str.replace('+','')\n",
    "gData.Installs = gData.Installs.str.replace('Free','0')\n",
    "gData['Installs'] = pd.to_numeric(gData['Installs'])"
   ]
  },
  {
   "cell_type": "code",
   "execution_count": 7,
   "id": "102a24fa",
   "metadata": {},
   "outputs": [
    {
     "data": {
      "text/plain": [
       "App Name           object\n",
       "Category           object\n",
       "Rating            float64\n",
       "Rating Count      float64\n",
       "Installs            int64\n",
       "Free                 bool\n",
       "Ad Supported         bool\n",
       "Content Rating     object\n",
       "dtype: object"
      ]
     },
     "execution_count": 7,
     "metadata": {},
     "output_type": "execute_result"
    }
   ],
   "source": [
    "#columns별 데이터 타입\n",
    "gData.dtypes"
   ]
  },
  {
   "cell_type": "code",
   "execution_count": 8,
   "id": "5992091a",
   "metadata": {},
   "outputs": [],
   "source": [
    "# 설치수와 평점 관계 (가설확인)"
   ]
  },
  {
   "cell_type": "code",
   "execution_count": 9,
   "id": "b4e1deb1",
   "metadata": {},
   "outputs": [
    {
     "data": {
      "text/html": [
       "<div>\n",
       "<style scoped>\n",
       "    .dataframe tbody tr th:only-of-type {\n",
       "        vertical-align: middle;\n",
       "    }\n",
       "\n",
       "    .dataframe tbody tr th {\n",
       "        vertical-align: top;\n",
       "    }\n",
       "\n",
       "    .dataframe thead th {\n",
       "        text-align: right;\n",
       "    }\n",
       "</style>\n",
       "<table border=\"1\" class=\"dataframe\">\n",
       "  <thead>\n",
       "    <tr style=\"text-align: right;\">\n",
       "      <th></th>\n",
       "      <th>Installs</th>\n",
       "      <th>Rating</th>\n",
       "    </tr>\n",
       "  </thead>\n",
       "  <tbody>\n",
       "    <tr>\n",
       "      <th>0</th>\n",
       "      <td>500000000</td>\n",
       "      <td>4.273846</td>\n",
       "    </tr>\n",
       "    <tr>\n",
       "      <th>1</th>\n",
       "      <td>100000000</td>\n",
       "      <td>4.269708</td>\n",
       "    </tr>\n",
       "    <tr>\n",
       "      <th>2</th>\n",
       "      <td>1000000000</td>\n",
       "      <td>4.234545</td>\n",
       "    </tr>\n",
       "    <tr>\n",
       "      <th>3</th>\n",
       "      <td>50000000</td>\n",
       "      <td>4.217961</td>\n",
       "    </tr>\n",
       "    <tr>\n",
       "      <th>4</th>\n",
       "      <td>10000000000</td>\n",
       "      <td>4.200000</td>\n",
       "    </tr>\n",
       "  </tbody>\n",
       "</table>\n",
       "</div>"
      ],
      "text/plain": [
       "      Installs    Rating\n",
       "0    500000000  4.273846\n",
       "1    100000000  4.269708\n",
       "2   1000000000  4.234545\n",
       "3     50000000  4.217961\n",
       "4  10000000000  4.200000"
      ]
     },
     "execution_count": 9,
     "metadata": {},
     "output_type": "execute_result"
    }
   ],
   "source": [
    "#Rating & Installs\n",
    "#가설 : 설치수가 높을 수록 평점이 높을 것이다.\n",
    "#앱 설치수별 평균 평점\n",
    "df=gData\n",
    "df=df.groupby(['Installs'], as_index=False).mean()\n",
    "df=df[['Installs','Rating']]\n",
    "df=df.sort_values('Rating',ascending=False) #내림차순으로 정렬 (인덱스 번호 수정)\n",
    "df.set_index(\"Installs\",inplace=True)\n",
    "df.reset_index(drop=False,inplace=True)\n",
    "df.head()"
   ]
  },
  {
   "cell_type": "code",
   "execution_count": 10,
   "id": "d4238c39",
   "metadata": {},
   "outputs": [
    {
     "data": {
      "image/png": "[encoded data removed]",
      "text/plain": [
       "<Figure size 720x360 with 1 Axes>"
      ]
     },
     "metadata": {
      "needs_background": "light"
     },
     "output_type": "display_data"
    }
   ],
   "source": [
    "df=df.sort_values(by=['Rating'],ascending=True)\n",
    "df.plot.barh(x='Installs',y='Rating',rot=0,figsize=(10,5),)\n",
    "plt.title('Average Rating accoriding to Installs',fontsize=20) \n",
    "\n",
    "plt.xlabel('Average Rating',fontsize=15)\n",
    "plt.ylabel('Installs',fontsize=15)\n",
    "\n",
    "plt.rc('xtick', labelsize=13)\n",
    "plt.rc('ytick', labelsize=12)\n",
    "\n",
    "plt.show()"
   ]
  },
  {
   "cell_type": "code",
   "execution_count": 11,
   "id": "e98caf07",
   "metadata": {},
   "outputs": [],
   "source": [
    "# 카테고리를 요인으로 두었을 때의 평점 & 카테고리"
   ]
  },
  {
   "cell_type": "code",
   "execution_count": 12,
   "id": "8ac25c82",
   "metadata": {},
   "outputs": [
    {
     "data": {
      "text/html": [
       "<div>\n",
       "<style scoped>\n",
       "    .dataframe tbody tr th:only-of-type {\n",
       "        vertical-align: middle;\n",
       "    }\n",
       "\n",
       "    .dataframe tbody tr th {\n",
       "        vertical-align: top;\n",
       "    }\n",
       "\n",
       "    .dataframe thead th {\n",
       "        text-align: right;\n",
       "    }\n",
       "</style>\n",
       "<table border=\"1\" class=\"dataframe\">\n",
       "  <thead>\n",
       "    <tr style=\"text-align: right;\">\n",
       "      <th></th>\n",
       "      <th>Category</th>\n",
       "      <th>Rating</th>\n",
       "    </tr>\n",
       "  </thead>\n",
       "  <tbody>\n",
       "    <tr>\n",
       "      <th>0</th>\n",
       "      <td>Role Playing</td>\n",
       "      <td>3.384498</td>\n",
       "    </tr>\n",
       "    <tr>\n",
       "      <th>1</th>\n",
       "      <td>Casino</td>\n",
       "      <td>3.279682</td>\n",
       "    </tr>\n",
       "    <tr>\n",
       "      <th>2</th>\n",
       "      <td>Simulation</td>\n",
       "      <td>3.210887</td>\n",
       "    </tr>\n",
       "    <tr>\n",
       "      <th>3</th>\n",
       "      <td>Weather</td>\n",
       "      <td>3.120295</td>\n",
       "    </tr>\n",
       "    <tr>\n",
       "      <th>4</th>\n",
       "      <td>Card</td>\n",
       "      <td>3.085160</td>\n",
       "    </tr>\n",
       "  </tbody>\n",
       "</table>\n",
       "</div>"
      ],
      "text/plain": [
       "       Category    Rating\n",
       "0  Role Playing  3.384498\n",
       "1        Casino  3.279682\n",
       "2    Simulation  3.210887\n",
       "3       Weather  3.120295\n",
       "4          Card  3.085160"
      ]
     },
     "execution_count": 12,
     "metadata": {},
     "output_type": "execute_result"
    }
   ],
   "source": [
    "#앱 카테고리별 평점 평균 구하기\n",
    "df=gData\n",
    "df=df.groupby(['Category'], as_index=False).mean()\n",
    "df=df[['Category','Rating']]\n",
    "df=df.sort_values('Rating',ascending=False) #내림차순으로 정렬 (인덱스 번호 수정)\n",
    "df.set_index(\"Category\",inplace=True)\n",
    "df.reset_index(drop=False,inplace=True)\n",
    "df.head()"
   ]
  },
  {
   "cell_type": "code",
   "execution_count": 13,
   "id": "5e9ca1df",
   "metadata": {},
   "outputs": [
    {
     "data": {
      "image/png": "[encoded data removed]",
      "text/plain": [
       "<Figure size 720x360 with 1 Axes>"
      ]
     },
     "metadata": {},
     "output_type": "display_data"
    }
   ],
   "source": [
    "sns.set_theme(style=\"whitegrid\")\n",
    "\n",
    "result=df.iloc[:10,:] #인덱스 번호 변경\n",
    "list_x=result['Category']\n",
    "list_y=result['Rating']\n",
    "\n",
    "plt.figure(figsize=(10, 5))\n",
    "plt.bar(list_x, list_y,color='green')\n",
    "plt.rc('font',family=\"Malgun Gothic\")\n",
    "plt.title('Top 10 Category according to Average Rating',fontsize=20) \n",
    "plt.ylabel('Average of Rating',fontsize=15) #y축 : 카테고리별 평점 평균\n",
    "plt.xlabel('Category',fontsize=15) #x축 : 카테고리명\n",
    "plt.rc('xtick', labelsize=13)\n",
    "plt.xticks(rotation=90)\n",
    "plt.rc('ytick', labelsize=12)\n",
    "plt.show()"
   ]
  },
  {
   "cell_type": "code",
   "execution_count": 14,
   "id": "5f4186b6",
   "metadata": {},
   "outputs": [],
   "source": [
    "# 추가데이터를 통한 카테고리별 설치수 분포"
   ]
  },
  {
   "cell_type": "code",
   "execution_count": 15,
   "id": "42216e83",
   "metadata": {},
   "outputs": [],
   "source": [
    "# 광고유무에 따른 평점과 설치 수 비교"
   ]
  },
  {
   "cell_type": "code",
   "execution_count": 16,
   "id": "da1ea3da",
   "metadata": {},
   "outputs": [
    {
     "name": "stdout",
     "output_type": "stream",
     "text": [
      "Ad Supported True Average Installs : 218704.464319\n",
      "Ad Supported False Average Installs : 151577.842086\n"
     ]
    },
    {
     "data": {
      "image/png": "[encoded data removed]",
      "text/plain": [
       "<Figure size 432x288 with 1 Axes>"
      ]
     },
     "metadata": {},
     "output_type": "display_data"
    }
   ],
   "source": [
    "#Ad Supported & Installs\n",
    "sns.set_theme(style=\"whitegrid\")\n",
    "\n",
    "Ad=gData[['Ad Supported','Installs']]\n",
    "Ad_T=Ad.loc[Ad['Ad Supported']==True, 'Installs']\n",
    "Ad_F=Ad.loc[Ad['Ad Supported']==False, 'Installs']\n",
    "\n",
    "print('Ad Supported True Average Installs : %f'%(Ad_T.mean())) #광고 o\n",
    "print('Ad Supported False Average Installs : %f'%(Ad_F.mean())) #광고 x\n",
    "\n",
    "#시각화\n",
    "values=[Ad_T.mean(),Ad_F.mean()]\n",
    "ad=['Ad Supported True','Ad Supported False']\n",
    "\n",
    "plt.bar(ad,values,color=['red','blue'],width=0.6)\n",
    "plt.show()"
   ]
  },
  {
   "cell_type": "code",
   "execution_count": 17,
   "id": "ea5af0eb",
   "metadata": {},
   "outputs": [
    {
     "name": "stdout",
     "output_type": "stream",
     "text": [
      "Ad Supported True Average Installs : 218704.464319\n",
      "Ad Supported False Average Installs : 151577.842086\n"
     ]
    },
    {
     "data": {
      "image/png": "[encoded data removed]",
      "text/plain": [
       "<Figure size 432x288 with 1 Axes>"
      ]
     },
     "metadata": {},
     "output_type": "display_data"
    }
   ],
   "source": [
    "#Ad Supported & Installs\n",
    "sns.set_theme(style=\"whitegrid\")\n",
    "\n",
    "Ad=gData[['Ad Supported','Installs']]\n",
    "Ad_T=Ad.loc[Ad['Ad Supported']==True, 'Installs']\n",
    "Ad_F=Ad.loc[Ad['Ad Supported']==False, 'Installs']\n",
    "\n",
    "print('Ad Supported True Average Installs : %f'%(Ad_T.mean())) #광고 o\n",
    "print('Ad Supported False Average Installs : %f'%(Ad_F.mean())) #광고 x\n",
    "\n",
    "#시각화\n",
    "values=[Ad_T.mean(),Ad_F.mean()]\n",
    "ad=['Ad Supported True','Ad Supported False']\n",
    "\n",
    "plt.bar(ad,values,color=['red','blue'],width=0.6)\n",
    "plt.show()"
   ]
  },
  {
   "cell_type": "code",
   "execution_count": 18,
   "id": "973bcf60",
   "metadata": {},
   "outputs": [
    {
     "name": "stdout",
     "output_type": "stream",
     "text": [
      "Ad Supported True Average Rating : 2.541531\n",
      "Ad Supported False Average Rating : 1.865425\n"
     ]
    },
    {
     "data": {
      "image/png": "[encoded data removed]",
      "text/plain": [
       "<Figure size 432x288 with 1 Axes>"
      ]
     },
     "metadata": {},
     "output_type": "display_data"
    }
   ],
   "source": [
    "#Ad Supported & Rating\n",
    "sns.set_theme(style=\"whitegrid\")\n",
    "\n",
    "Ad=gData[['Ad Supported','Rating']]\n",
    "Ad_T=Ad.loc[Ad['Ad Supported']==True, 'Rating']\n",
    "Ad_F=Ad.loc[Ad['Ad Supported']==False, 'Rating']\n",
    "\n",
    "print('Ad Supported True Average Rating : %f'%(Ad_T.mean())) #광고 o\n",
    "print('Ad Supported False Average Rating : %f'%(Ad_F.mean())) #광고 x\n",
    "\n",
    "#시각화\n",
    "values=[Ad_T.mean(),Ad_F.mean()]\n",
    "ad=['Ad Supported True','Ad Supported False']\n",
    "\n",
    "plt.bar(ad,values,color=['red','blue'],width=0.6)\n",
    "plt.show()"
   ]
  },
  {
   "cell_type": "code",
   "execution_count": 19,
   "id": "ef0aa2fe",
   "metadata": {},
   "outputs": [],
   "source": [
    "# 이용연령에 따른 평점과 설치 수 비교"
   ]
  },
  {
   "cell_type": "code",
   "execution_count": 20,
   "id": "e36d7717",
   "metadata": {},
   "outputs": [
    {
     "data": {
      "text/plain": [
       "array(['Everyone', 'Teen', 'Mature 17+', 'Everyone 10+',\n",
       "       'Adults only 18+', 'Unrated'], dtype=object)"
      ]
     },
     "execution_count": 20,
     "metadata": {},
     "output_type": "execute_result"
    }
   ],
   "source": [
    "#Content Rating 고유값 확인\n",
    "gData['Content Rating'].unique()"
   ]
  },
  {
   "cell_type": "code",
   "execution_count": 21,
   "id": "a24d74b2",
   "metadata": {},
   "outputs": [
    {
     "data": {
      "text/html": [
       "<div>\n",
       "<style scoped>\n",
       "    .dataframe tbody tr th:only-of-type {\n",
       "        vertical-align: middle;\n",
       "    }\n",
       "\n",
       "    .dataframe tbody tr th {\n",
       "        vertical-align: top;\n",
       "    }\n",
       "\n",
       "    .dataframe thead th {\n",
       "        text-align: right;\n",
       "    }\n",
       "</style>\n",
       "<table border=\"1\" class=\"dataframe\">\n",
       "  <thead>\n",
       "    <tr style=\"text-align: right;\">\n",
       "      <th></th>\n",
       "      <th>Content Rating</th>\n",
       "      <th>Rating</th>\n",
       "    </tr>\n",
       "  </thead>\n",
       "  <tbody>\n",
       "    <tr>\n",
       "      <th>1</th>\n",
       "      <td>Everyone 10+</td>\n",
       "      <td>2.688936</td>\n",
       "    </tr>\n",
       "    <tr>\n",
       "      <th>2</th>\n",
       "      <td>Adults only 18+</td>\n",
       "      <td>2.474436</td>\n",
       "    </tr>\n",
       "    <tr>\n",
       "      <th>3</th>\n",
       "      <td>Mature 17+</td>\n",
       "      <td>2.464136</td>\n",
       "    </tr>\n",
       "    <tr>\n",
       "      <th>4</th>\n",
       "      <td>Teen</td>\n",
       "      <td>2.317363</td>\n",
       "    </tr>\n",
       "    <tr>\n",
       "      <th>5</th>\n",
       "      <td>Everyone</td>\n",
       "      <td>2.176141</td>\n",
       "    </tr>\n",
       "  </tbody>\n",
       "</table>\n",
       "</div>"
      ],
      "text/plain": [
       "    Content Rating    Rating\n",
       "1     Everyone 10+  2.688936\n",
       "2  Adults only 18+  2.474436\n",
       "3       Mature 17+  2.464136\n",
       "4             Teen  2.317363\n",
       "5         Everyone  2.176141"
      ]
     },
     "execution_count": 21,
     "metadata": {},
     "output_type": "execute_result"
    }
   ],
   "source": [
    "df=gData\n",
    "df=df.groupby(['Content Rating'], as_index=False).mean()\n",
    "df=df[['Content Rating','Rating']]\n",
    "df=df.sort_values('Rating',ascending=False) #내림차순으로 정렬 (인덱스 번호 수정)\n",
    "df.set_index(\"Content Rating\",inplace=True)\n",
    "df.reset_index(drop=False,inplace=True)\n",
    "#Unrated 행 제거\n",
    "df=df.drop(index=df.index[0])\n",
    "df"
   ]
  },
  {
   "cell_type": "code",
   "execution_count": 22,
   "id": "4c7782da",
   "metadata": {},
   "outputs": [
    {
     "data": {
      "image/png": "[encoded data removed]",
      "text/plain": [
       "<Figure size 720x360 with 1 Axes>"
      ]
     },
     "metadata": {},
     "output_type": "display_data"
    }
   ],
   "source": [
    "#시각화\n",
    "sns.set_theme(style=\"whitegrid\")\n",
    "\n",
    "df=df.sort_values(by=['Rating'],ascending=True)\n",
    "df.plot.bar(x='Content Rating',y='Rating',rot=0,figsize=(10,5),)\n",
    "plt.title('Average Rating accoriding to Content Rating',fontsize=20) \n",
    "\n",
    "plt.xlabel('Content Rating',fontsize=15)\n",
    "plt.ylabel('Average Rating',fontsize=15)\n",
    "\n",
    "plt.rc('xtick', labelsize=13)\n",
    "plt.rc('ytick', labelsize=12)\n",
    "\n",
    "plt.show()"
   ]
  },
  {
   "cell_type": "code",
   "execution_count": 23,
   "id": "ea8a7f45",
   "metadata": {},
   "outputs": [
    {
     "data": {
      "text/html": [
       "<div>\n",
       "<style scoped>\n",
       "    .dataframe tbody tr th:only-of-type {\n",
       "        vertical-align: middle;\n",
       "    }\n",
       "\n",
       "    .dataframe tbody tr th {\n",
       "        vertical-align: top;\n",
       "    }\n",
       "\n",
       "    .dataframe thead th {\n",
       "        text-align: right;\n",
       "    }\n",
       "</style>\n",
       "<table border=\"1\" class=\"dataframe\">\n",
       "  <thead>\n",
       "    <tr style=\"text-align: right;\">\n",
       "      <th></th>\n",
       "      <th>Content Rating</th>\n",
       "      <th>Installs</th>\n",
       "    </tr>\n",
       "  </thead>\n",
       "  <tbody>\n",
       "    <tr>\n",
       "      <th>0</th>\n",
       "      <td>Everyone 10+</td>\n",
       "      <td>508833.258744</td>\n",
       "    </tr>\n",
       "    <tr>\n",
       "      <th>1</th>\n",
       "      <td>Teen</td>\n",
       "      <td>414367.941608</td>\n",
       "    </tr>\n",
       "    <tr>\n",
       "      <th>2</th>\n",
       "      <td>Mature 17+</td>\n",
       "      <td>211197.113023</td>\n",
       "    </tr>\n",
       "    <tr>\n",
       "      <th>3</th>\n",
       "      <td>Everyone</td>\n",
       "      <td>156746.445421</td>\n",
       "    </tr>\n",
       "    <tr>\n",
       "      <th>4</th>\n",
       "      <td>Adults only 18+</td>\n",
       "      <td>129588.879699</td>\n",
       "    </tr>\n",
       "  </tbody>\n",
       "</table>\n",
       "</div>"
      ],
      "text/plain": [
       "    Content Rating       Installs\n",
       "0     Everyone 10+  508833.258744\n",
       "1             Teen  414367.941608\n",
       "2       Mature 17+  211197.113023\n",
       "3         Everyone  156746.445421\n",
       "4  Adults only 18+  129588.879699"
      ]
     },
     "execution_count": 23,
     "metadata": {},
     "output_type": "execute_result"
    }
   ],
   "source": [
    "df=gData\n",
    "df=df.groupby(['Content Rating'], as_index=False).mean()\n",
    "df=df[['Content Rating','Installs']]\n",
    "df=df.sort_values('Installs',ascending=False) #내림차순으로 정렬 (인덱스 번호 수정)\n",
    "df.set_index('Content Rating',inplace=True)\n",
    "df.reset_index(drop=False,inplace=True)\n",
    "#Unrated 행 제거\n",
    "df=df.drop(index=df.index[5])\n",
    "df"
   ]
  },
  {
   "cell_type": "code",
   "execution_count": 24,
   "id": "4ad3a36d",
   "metadata": {},
   "outputs": [
    {
     "data": {
      "image/png": "[encoded data removed]",
      "text/plain": [
       "<Figure size 720x360 with 1 Axes>"
      ]
     },
     "metadata": {},
     "output_type": "display_data"
    }
   ],
   "source": [
    "#시각화\n",
    "sns.set_theme(style=\"whitegrid\")\n",
    "\n",
    "df=df.sort_values(by=['Installs'],ascending=True)\n",
    "df.plot.bar(x='Content Rating',y='Installs',rot=0,figsize=(10,5),)\n",
    "plt.title('Average Installs accoriding to Content Rating',fontsize=20) \n",
    "\n",
    "plt.xlabel('Content Rating',fontsize=15)\n",
    "plt.ylabel('Average Installs',fontsize=15)\n",
    "\n",
    "plt.rc('xtick', labelsize=13)\n",
    "plt.rc('ytick', labelsize=12)\n",
    "\n",
    "plt.show()"
   ]
  },
  {
   "cell_type": "code",
   "execution_count": 25,
   "id": "a37f8871",
   "metadata": {},
   "outputs": [],
   "source": [
    "# 유료무료화 여부에 따른 평점과 설치 수"
   ]
  },
  {
   "cell_type": "code",
   "execution_count": 26,
   "id": "78559d3e",
   "metadata": {},
   "outputs": [
    {
     "name": "stdout",
     "output_type": "stream",
     "text": [
      "Free Apps Average Rating : 2.199949\n",
      "Paid Apps Average Rating : 2.363458\n"
     ]
    },
    {
     "data": {
      "image/png": "[encoded data removed]",
      "text/plain": [
       "<Figure size 432x288 with 1 Axes>"
      ]
     },
     "metadata": {},
     "output_type": "display_data"
    }
   ],
   "source": [
    "#Free & Rating\n",
    "sns.set_theme(style=\"whitegrid\")\n",
    "\n",
    "Pay=gData[['Free','Rating']]\n",
    "Pay_free=Pay.loc[Pay['Free']==True, 'Rating']\n",
    "Pay_paid=Pay.loc[Pay['Free']==False, 'Rating']\n",
    "\n",
    "print('Free Apps Average Rating : %f'%(Pay_free.mean())) #무료 앱\n",
    "print('Paid Apps Average Rating : %f'%(Pay_paid.mean())) #유료 앱\n",
    "\n",
    "#시각화\n",
    "values=[Pay_free.mean(),Pay_paid.mean()]\n",
    "price=['Free','Paid']\n",
    "\n",
    "plt.bar(price,values,color=['red','blue'],width=0.6)\n",
    "plt.show()"
   ]
  },
  {
   "cell_type": "code",
   "execution_count": 27,
   "id": "42cb06a9",
   "metadata": {},
   "outputs": [
    {
     "name": "stdout",
     "output_type": "stream",
     "text": [
      "Free Apps Average Installs : 188628.549083\n",
      "Paid Apps Average Installs : 8864.063223\n"
     ]
    },
    {
     "data": {
      "image/png": "[encoded data removed]",
      "text/plain": [
       "<Figure size 432x288 with 1 Axes>"
      ]
     },
     "metadata": {},
     "output_type": "display_data"
    }
   ],
   "source": [
    "#Installs & Rating\n",
    "sns.set_theme(style=\"whitegrid\")\n",
    "\n",
    "Pay=gData[['Free','Installs']]\n",
    "Pay_free=Pay.loc[Pay['Free']==True, 'Installs']\n",
    "Pay_paid=Pay.loc[Pay['Free']==False, 'Installs']\n",
    "\n",
    "print('Free Apps Average Installs : %f'%(Pay_free.mean())) #무료 앱\n",
    "print('Paid Apps Average Installs : %f'%(Pay_paid.mean())) #유료 앱\n",
    "\n",
    "#시각화\n",
    "values=[Pay_free.mean(),Pay_paid.mean()]\n",
    "price=['Free','Paid']\n",
    "\n",
    "plt.bar(price,values,color=['red','blue'],width=0.6)\n",
    "plt.show()"
   ]
  },
  {
   "cell_type": "code",
   "execution_count": 28,
   "id": "9b3cbacd",
   "metadata": {},
   "outputs": [],
   "source": [
    "# 데이터간의 상관관계"
   ]
  },
  {
   "cell_type": "code",
   "execution_count": 29,
   "id": "c6ec6822",
   "metadata": {},
   "outputs": [
    {
     "data": {
      "text/html": [
       "<div>\n",
       "<style scoped>\n",
       "    .dataframe tbody tr th:only-of-type {\n",
       "        vertical-align: middle;\n",
       "    }\n",
       "\n",
       "    .dataframe tbody tr th {\n",
       "        vertical-align: top;\n",
       "    }\n",
       "\n",
       "    .dataframe thead th {\n",
       "        text-align: right;\n",
       "    }\n",
       "</style>\n",
       "<table border=\"1\" class=\"dataframe\">\n",
       "  <thead>\n",
       "    <tr style=\"text-align: right;\">\n",
       "      <th></th>\n",
       "      <th>Rating</th>\n",
       "      <th>Rating Count</th>\n",
       "      <th>Installs</th>\n",
       "      <th>Free</th>\n",
       "      <th>Ad Supported</th>\n",
       "    </tr>\n",
       "  </thead>\n",
       "  <tbody>\n",
       "    <tr>\n",
       "      <th>Rating</th>\n",
       "      <td>1.000000</td>\n",
       "      <td>0.013038</td>\n",
       "      <td>0.011214</td>\n",
       "      <td>-0.010756</td>\n",
       "      <td>0.160502</td>\n",
       "    </tr>\n",
       "    <tr>\n",
       "      <th>Rating Count</th>\n",
       "      <td>0.013038</td>\n",
       "      <td>1.000000</td>\n",
       "      <td>0.545281</td>\n",
       "      <td>0.001410</td>\n",
       "      <td>0.005294</td>\n",
       "    </tr>\n",
       "    <tr>\n",
       "      <th>Installs</th>\n",
       "      <td>0.011214</td>\n",
       "      <td>0.545281</td>\n",
       "      <td>1.000000</td>\n",
       "      <td>0.001638</td>\n",
       "      <td>0.002207</td>\n",
       "    </tr>\n",
       "    <tr>\n",
       "      <th>Free</th>\n",
       "      <td>-0.010756</td>\n",
       "      <td>0.001410</td>\n",
       "      <td>0.001638</td>\n",
       "      <td>1.000000</td>\n",
       "      <td>0.124765</td>\n",
       "    </tr>\n",
       "    <tr>\n",
       "      <th>Ad Supported</th>\n",
       "      <td>0.160502</td>\n",
       "      <td>0.005294</td>\n",
       "      <td>0.002207</td>\n",
       "      <td>0.124765</td>\n",
       "      <td>1.000000</td>\n",
       "    </tr>\n",
       "  </tbody>\n",
       "</table>\n",
       "</div>"
      ],
      "text/plain": [
       "                Rating  Rating Count  Installs      Free  Ad Supported\n",
       "Rating        1.000000      0.013038  0.011214 -0.010756      0.160502\n",
       "Rating Count  0.013038      1.000000  0.545281  0.001410      0.005294\n",
       "Installs      0.011214      0.545281  1.000000  0.001638      0.002207\n",
       "Free         -0.010756      0.001410  0.001638  1.000000      0.124765\n",
       "Ad Supported  0.160502      0.005294  0.002207  0.124765      1.000000"
      ]
     },
     "execution_count": 29,
     "metadata": {},
     "output_type": "execute_result"
    }
   ],
   "source": [
    "gData.corr()"
   ]
  },
  {
   "cell_type": "code",
   "execution_count": 30,
   "id": "4c0341ba",
   "metadata": {},
   "outputs": [
    {
     "data": {
      "image/png": "[encoded data removed]",
      "text/plain": [
       "<Figure size 576x576 with 2 Axes>"
      ]
     },
     "metadata": {},
     "output_type": "display_data"
    }
   ],
   "source": [
    "#데이터 간의 상관관계 시각화\n",
    "df = gData.corr()\n",
    "fig, ax = plt.subplots( figsize=(8,8) )\n",
    "\n",
    "mask = np.zeros_like(df, dtype=np.bool)\n",
    "mask[np.triu_indices_from(mask)] = True\n",
    "\n",
    "\n",
    "sns.heatmap(df, cmap = 'RdYlBu_r', cbar_kws={\"shrink\": .5},annot = True, mask=mask,      \n",
    "            linewidths=.5,vmin = -1,vmax = 1)  \n",
    "plt.show()"
   ]
  }
 ],
 "metadata": {
  "kernelspec": {
   "display_name": "Python 3 (ipykernel)",
   "language": "python",
   "name": "python3"
  },
  "language_info": {
   "codemirror_mode": {
    "name": "ipython",
    "version": 3
   },
   "file_extension": ".py",
   "mimetype": "text/x-python",
   "name": "python",
   "nbconvert_exporter": "python",
   "pygments_lexer": "ipython3",
   "version": "3.9.12"
  }
 },
 "nbformat": 4,
 "nbformat_minor": 5
}
